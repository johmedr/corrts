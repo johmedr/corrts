{
 "cells": [
  {
   "cell_type": "code",
   "execution_count": 1,
   "id": "8cf9cfdd",
   "metadata": {},
   "outputs": [],
   "source": [
    "from corrts import *\n",
    "import numpy as np\n",
    "import scipy as sp"
   ]
  },
  {
   "cell_type": "code",
   "execution_count": 2,
   "id": "92ce2f98",
   "metadata": {},
   "outputs": [
    {
     "data": {
      "text/plain": [
       "<function corrts.src.sample_random_process(n: int, acf='gaussian', *args, **kwargs)>"
      ]
     },
     "execution_count": 2,
     "metadata": {},
     "output_type": "execute_result"
    }
   ],
   "source": [
    "lags = "
   ]
  }
 ],
 "metadata": {
  "kernelspec": {
   "display_name": "Python 3",
   "language": "python",
   "name": "python3"
  },
  "language_info": {
   "codemirror_mode": {
    "name": "ipython",
    "version": 3
   },
   "file_extension": ".py",
   "mimetype": "text/x-python",
   "name": "python",
   "nbconvert_exporter": "python",
   "pygments_lexer": "ipython3",
   "version": "3.8.12"
  }
 },
 "nbformat": 4,
 "nbformat_minor": 5
}
